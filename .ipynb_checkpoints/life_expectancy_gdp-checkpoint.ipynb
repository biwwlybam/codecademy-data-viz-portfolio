{
 "cells": [
  {
   "cell_type": "markdown",
   "metadata": {},
   "source": [
    "First I'll import `pandas` so that I can read the data in our csv file, `numpy` to manipulate the data, and `matplotlib` and `seaborn` to create data visualizations."
   ]
  },
  {
   "cell_type": "code",
   "execution_count": 62,
   "metadata": {},
   "outputs": [],
   "source": [
    "import pandas as pd\n",
    "import numpy as np\n",
    "import matplotlib.pyplot as plt\n",
    "import seaborn as sns"
   ]
  },
  {
   "cell_type": "code",
   "execution_count": 30,
   "metadata": {},
   "outputs": [],
   "source": [
    "life_ex = pd.read_csv('all_data.csv')"
   ]
  },
  {
   "cell_type": "code",
   "execution_count": 4,
   "metadata": {},
   "outputs": [
    {
     "data": {
      "text/html": [
       "<div>\n",
       "<style scoped>\n",
       "    .dataframe tbody tr th:only-of-type {\n",
       "        vertical-align: middle;\n",
       "    }\n",
       "\n",
       "    .dataframe tbody tr th {\n",
       "        vertical-align: top;\n",
       "    }\n",
       "\n",
       "    .dataframe thead th {\n",
       "        text-align: right;\n",
       "    }\n",
       "</style>\n",
       "<table border=\"1\" class=\"dataframe\">\n",
       "  <thead>\n",
       "    <tr style=\"text-align: right;\">\n",
       "      <th></th>\n",
       "      <th>Country</th>\n",
       "      <th>Year</th>\n",
       "      <th>Life expectancy at birth (years)</th>\n",
       "      <th>GDP</th>\n",
       "    </tr>\n",
       "  </thead>\n",
       "  <tbody>\n",
       "    <tr>\n",
       "      <th>0</th>\n",
       "      <td>Chile</td>\n",
       "      <td>2000</td>\n",
       "      <td>77.3</td>\n",
       "      <td>7.786093e+10</td>\n",
       "    </tr>\n",
       "    <tr>\n",
       "      <th>1</th>\n",
       "      <td>Chile</td>\n",
       "      <td>2001</td>\n",
       "      <td>77.3</td>\n",
       "      <td>7.097992e+10</td>\n",
       "    </tr>\n",
       "    <tr>\n",
       "      <th>2</th>\n",
       "      <td>Chile</td>\n",
       "      <td>2002</td>\n",
       "      <td>77.8</td>\n",
       "      <td>6.973681e+10</td>\n",
       "    </tr>\n",
       "    <tr>\n",
       "      <th>3</th>\n",
       "      <td>Chile</td>\n",
       "      <td>2003</td>\n",
       "      <td>77.9</td>\n",
       "      <td>7.564346e+10</td>\n",
       "    </tr>\n",
       "    <tr>\n",
       "      <th>4</th>\n",
       "      <td>Chile</td>\n",
       "      <td>2004</td>\n",
       "      <td>78.0</td>\n",
       "      <td>9.921039e+10</td>\n",
       "    </tr>\n",
       "  </tbody>\n",
       "</table>\n",
       "</div>"
      ],
      "text/plain": [
       "  Country  Year  Life expectancy at birth (years)           GDP\n",
       "0   Chile  2000                              77.3  7.786093e+10\n",
       "1   Chile  2001                              77.3  7.097992e+10\n",
       "2   Chile  2002                              77.8  6.973681e+10\n",
       "3   Chile  2003                              77.9  7.564346e+10\n",
       "4   Chile  2004                              78.0  9.921039e+10"
      ]
     },
     "execution_count": 4,
     "metadata": {},
     "output_type": "execute_result"
    }
   ],
   "source": [
    "life_ex.head()"
   ]
  },
  {
   "cell_type": "markdown",
   "metadata": {},
   "source": [
    "In order to summarize the mean life expectancy and GDP for each country in our dataset, I'll use the `groupby()` and `mean()` functions together. To make the data easier to read, I'll also use the `sort_values()` function to list data in descending order of mean life expectancy. This has the added bonus of letting me know all the unique countries in our dataset."
   ]
  },
  {
   "cell_type": "code",
   "execution_count": 13,
   "metadata": {},
   "outputs": [
    {
     "data": {
      "text/html": [
       "<div>\n",
       "<style scoped>\n",
       "    .dataframe tbody tr th:only-of-type {\n",
       "        vertical-align: middle;\n",
       "    }\n",
       "\n",
       "    .dataframe tbody tr th {\n",
       "        vertical-align: top;\n",
       "    }\n",
       "\n",
       "    .dataframe thead th {\n",
       "        text-align: right;\n",
       "    }\n",
       "</style>\n",
       "<table border=\"1\" class=\"dataframe\">\n",
       "  <thead>\n",
       "    <tr style=\"text-align: right;\">\n",
       "      <th></th>\n",
       "      <th>Year</th>\n",
       "      <th>Life expectancy at birth (years)</th>\n",
       "      <th>GDP</th>\n",
       "    </tr>\n",
       "    <tr>\n",
       "      <th>Country</th>\n",
       "      <th></th>\n",
       "      <th></th>\n",
       "      <th></th>\n",
       "    </tr>\n",
       "  </thead>\n",
       "  <tbody>\n",
       "    <tr>\n",
       "      <th>Germany</th>\n",
       "      <td>2007.5</td>\n",
       "      <td>79.65625</td>\n",
       "      <td>3.094776e+12</td>\n",
       "    </tr>\n",
       "    <tr>\n",
       "      <th>Chile</th>\n",
       "      <td>2007.5</td>\n",
       "      <td>78.94375</td>\n",
       "      <td>1.697888e+11</td>\n",
       "    </tr>\n",
       "    <tr>\n",
       "      <th>United States of America</th>\n",
       "      <td>2007.5</td>\n",
       "      <td>78.06250</td>\n",
       "      <td>1.407500e+13</td>\n",
       "    </tr>\n",
       "    <tr>\n",
       "      <th>Mexico</th>\n",
       "      <td>2007.5</td>\n",
       "      <td>75.71875</td>\n",
       "      <td>9.766506e+11</td>\n",
       "    </tr>\n",
       "    <tr>\n",
       "      <th>China</th>\n",
       "      <td>2007.5</td>\n",
       "      <td>74.26250</td>\n",
       "      <td>4.957714e+12</td>\n",
       "    </tr>\n",
       "    <tr>\n",
       "      <th>Zimbabwe</th>\n",
       "      <td>2007.5</td>\n",
       "      <td>50.09375</td>\n",
       "      <td>9.062580e+09</td>\n",
       "    </tr>\n",
       "  </tbody>\n",
       "</table>\n",
       "</div>"
      ],
      "text/plain": [
       "                            Year  Life expectancy at birth (years)  \\\n",
       "Country                                                              \n",
       "Germany                   2007.5                          79.65625   \n",
       "Chile                     2007.5                          78.94375   \n",
       "United States of America  2007.5                          78.06250   \n",
       "Mexico                    2007.5                          75.71875   \n",
       "China                     2007.5                          74.26250   \n",
       "Zimbabwe                  2007.5                          50.09375   \n",
       "\n",
       "                                   GDP  \n",
       "Country                                 \n",
       "Germany                   3.094776e+12  \n",
       "Chile                     1.697888e+11  \n",
       "United States of America  1.407500e+13  \n",
       "Mexico                    9.766506e+11  \n",
       "China                     4.957714e+12  \n",
       "Zimbabwe                  9.062580e+09  "
      ]
     },
     "execution_count": 13,
     "metadata": {},
     "output_type": "execute_result"
    }
   ],
   "source": [
    "life_ex.groupby('Country').mean().sort_values(by=['Life expectancy at birth (years)'], ascending=False)"
   ]
  },
  {
   "cell_type": "markdown",
   "metadata": {},
   "source": [
    "We can see that Germany has the highest life expectancy, but not the highest GDP. This seems like two metrics that would be interesting to plot against each other.\n",
    "\n",
    "We can also see that Zimbabwe has the lowest life expectancy by a large amount, effectively an outlier in this data. This also makes me curious how many data points we have for each country. Below I'll use the `value_counts()` method on the `Country` column to check this."
   ]
  },
  {
   "cell_type": "code",
   "execution_count": 15,
   "metadata": {},
   "outputs": [
    {
     "data": {
      "text/plain": [
       "Chile                       16\n",
       "China                       16\n",
       "Germany                     16\n",
       "Mexico                      16\n",
       "United States of America    16\n",
       "Zimbabwe                    16\n",
       "Name: Country, dtype: int64"
      ]
     },
     "execution_count": 15,
     "metadata": {},
     "output_type": "execute_result"
    }
   ],
   "source": [
    "life_ex['Country'].value_counts()"
   ]
  },
  {
   "cell_type": "markdown",
   "metadata": {},
   "source": [
    "Nice to see that we have an equal number of data points from each country. I would also like to quickly check if there are any missing data points. The quickest way I can think of is using `isnull()` and `value_counts()` together. If there are any `True` values, we can investigate those further."
   ]
  },
  {
   "cell_type": "code",
   "execution_count": 17,
   "metadata": {},
   "outputs": [
    {
     "data": {
      "text/plain": [
       "Country  Year   Life expectancy at birth (years)  GDP  \n",
       "False    False  False                             False    96\n",
       "dtype: int64"
      ]
     },
     "execution_count": 17,
     "metadata": {},
     "output_type": "execute_result"
    }
   ],
   "source": [
    "life_ex.isnull().value_counts()"
   ]
  },
  {
   "cell_type": "markdown",
   "metadata": {},
   "source": [
    "An even number of values for each country with no missing data points... this data is looking pretty clean so far.\n",
    "\n",
    "It appears from the `head()` and mean years that data is equally spread across years. It would be nice to confirm this and get the range at the same time."
   ]
  },
  {
   "cell_type": "code",
   "execution_count": 18,
   "metadata": {},
   "outputs": [
    {
     "data": {
      "text/plain": [
       "2000    6\n",
       "2001    6\n",
       "2002    6\n",
       "2003    6\n",
       "2004    6\n",
       "2005    6\n",
       "2006    6\n",
       "2007    6\n",
       "2008    6\n",
       "2009    6\n",
       "2010    6\n",
       "2011    6\n",
       "2012    6\n",
       "2013    6\n",
       "2014    6\n",
       "2015    6\n",
       "Name: Year, dtype: int64"
      ]
     },
     "execution_count": 18,
     "metadata": {},
     "output_type": "execute_result"
    }
   ],
   "source": [
    "life_ex['Year'].value_counts()"
   ]
  },
  {
   "cell_type": "markdown",
   "metadata": {},
   "source": [
    "I'd like to see how life expectancies have changed over the 16 years we have data for. First I'll make an array containing the years for the x-axis, and then create arrays of life expectancy for each country and plot them all together for comparison."
   ]
  },
  {
   "cell_type": "code",
   "execution_count": 71,
   "metadata": {},
   "outputs": [
    {
     "data": {
      "image/png": "[encoded data removed]",
      "text/plain": [
       "<Figure size 432x288 with 1 Axes>"
      ]
     },
     "metadata": {
      "needs_background": "light"
     },
     "output_type": "display_data"
    }
   ],
   "source": [
    "years = np.arange(2000,2016)\n",
    "life_ex_germany = life_ex['Life expectancy at birth (years)'].loc[life_ex['Country'] == 'Germany']\n",
    "life_ex_chile = life_ex['Life expectancy at birth (years)'].loc[life_ex['Country'] == 'Chile']\n",
    "life_ex_usa = life_ex['Life expectancy at birth (years)'].loc[life_ex['Country'] == 'United States of America']\n",
    "life_ex_mexico = life_ex['Life expectancy at birth (years)'].loc[life_ex['Country'] == 'Mexico']\n",
    "life_ex_china = life_ex['Life expectancy at birth (years)'].loc[life_ex['Country'] == 'China']\n",
    "life_ex_zimbabwe = life_ex['Life expectancy at birth (years)'].loc[life_ex['Country'] == 'Zimbabwe']\n",
    "\n",
    "plt.plot(years, life_ex_germany, label='Germany')\n",
    "plt.plot(years, life_ex_chile, label='Chile')\n",
    "plt.plot(years, life_ex_usa, label='USA')\n",
    "plt.plot(years, life_ex_mexico, label='Mexico')\n",
    "plt.plot(years, life_ex_china, label='China')\n",
    "plt.plot(years, life_ex_zimbabwe, label='Zimbabwe')\n",
    "plt.legend()\n",
    "plt.title('Life Expectancy from 2000-2016')\n",
    "plt.xlabel('Year')\n",
    "plt.ylabel('Life expectancy in years')\n",
    "plt.show()"
   ]
  },
  {
   "cell_type": "markdown",
   "metadata": {},
   "source": [
    "We're able to see that all of the countries we have data for increased their life expectancy between 2000 and 2016. Chile and Mexico had some periods of stagnant or falling life expectancy. Zimbabwe experienced a notable decrease from 2000 to 2004, but then an even more notable increase up to 2016, the last year we have data for."
   ]
  },
  {
   "cell_type": "markdown",
   "metadata": {},
   "source": []
  }
 ],
 "metadata": {
  "kernelspec": {
   "display_name": "Python 3 (ipykernel)",
   "language": "python",
   "name": "python3"
  },
  "language_info": {
   "codemirror_mode": {
    "name": "ipython",
    "version": 3
   },
   "file_extension": ".py",
   "mimetype": "text/x-python",
   "name": "python",
   "nbconvert_exporter": "python",
   "pygments_lexer": "ipython3",
   "version": "3.9.7"
  }
 },
 "nbformat": 4,
 "nbformat_minor": 4
}
